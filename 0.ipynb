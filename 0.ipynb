{
 "cells": [
  {
   "cell_type": "code",
   "execution_count": 1,
   "id": "3c75d511-c064-4a8b-a813-e716795cb2e2",
   "metadata": {},
   "outputs": [],
   "source": [
    "import torch\n",
    "import torchvision\n",
    "import numpy as np\n",
    "import matplotlib.pyplot as plt\n",
    "import pandas as pd\n",
    "from torch.nn import *\n",
    "from torch.optim import *\n",
    "from torchvision.models import *\n",
    "from sklearn.model_selection import *\n",
    "from sklearn.metrics import *\n",
    "import wandb\n",
    "import nltk\n",
    "from nltk.stem.porter import *\n",
    "PROJECT_NAME = \"Contradictory, My Dear Watson\"\n",
    "np.random.seed(55)\n",
    "stemmer = PorterStemmer()\n",
    "device = 'cuda'"
   ]
  },
  {
   "cell_type": "code",
   "execution_count": 2,
   "id": "721195fb-0240-4513-8ee5-8b8f1b2a7954",
   "metadata": {},
   "outputs": [],
   "source": [
    "def tokenize(word):\n",
    "    words = nltk.word_tokenize(word)\n",
    "    return words"
   ]
  },
  {
   "cell_type": "code",
   "execution_count": 4,
   "id": "54767f5a-32fd-47f2-a2fe-6fd4836dcdd0",
   "metadata": {},
   "outputs": [
    {
     "data": {
      "text/plain": [
       "['Testing', 'organizing']"
      ]
     },
     "execution_count": 4,
     "metadata": {},
     "output_type": "execute_result"
    }
   ],
   "source": [
    "tokenize(\"Testing organizing\")"
   ]
  },
  {
   "cell_type": "code",
   "execution_count": 5,
   "id": "b76343aa-b954-4ec1-bcb0-a33a78d331af",
   "metadata": {},
   "outputs": [],
   "source": [
    "def stem(word):\n",
    "    word = stemmer.stem(word)\n",
    "    return word"
   ]
  },
  {
   "cell_type": "code",
   "execution_count": 6,
   "id": "cb10b022-b692-47d3-b454-3378cde37a2e",
   "metadata": {},
   "outputs": [
    {
     "data": {
      "text/plain": [
       "'organ'"
      ]
     },
     "execution_count": 6,
     "metadata": {},
     "output_type": "execute_result"
    }
   ],
   "source": [
    "stem(\"Organic\")"
   ]
  },
  {
   "cell_type": "code",
   "execution_count": 17,
   "id": "feb8c2fb-ff48-4d40-83dd-f49980f445b1",
   "metadata": {},
   "outputs": [],
   "source": [
    "def converter(words,all_words):\n",
    "    n_words = []\n",
    "    for w in words:\n",
    "        n_words.append(stem(w))\n",
    "    np_eyes = np.zeros(len(all_words))\n",
    "    for i,w in enumerate(all_words):\n",
    "        if w in n_words:\n",
    "            np_eyes[i] = 1.0\n",
    "    return np_eyes"
   ]
  },
  {
   "cell_type": "code",
   "execution_count": 18,
   "id": "44ed13ea-344e-4203-bf81-8f43af254018",
   "metadata": {},
   "outputs": [
    {
     "data": {
      "text/plain": [
       "array([1.])"
      ]
     },
     "execution_count": 18,
     "metadata": {},
     "output_type": "execute_result"
    }
   ],
   "source": [
    "converter(['testing'],['test'])"
   ]
  },
  {
   "cell_type": "code",
   "execution_count": null,
   "id": "1f7e8915-1490-4271-b885-7995bd6be1f2",
   "metadata": {},
   "outputs": [],
   "source": []
  }
 ],
 "metadata": {
  "kernelspec": {
   "display_name": "Python 3 (ipykernel)",
   "language": "python",
   "name": "python3"
  },
  "language_info": {
   "codemirror_mode": {
    "name": "ipython",
    "version": 3
   },
   "file_extension": ".py",
   "mimetype": "text/x-python",
   "name": "python",
   "nbconvert_exporter": "python",
   "pygments_lexer": "ipython3",
   "version": "3.8.8"
  }
 },
 "nbformat": 4,
 "nbformat_minor": 5
}
